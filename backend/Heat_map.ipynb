{
 "cells": [
  {
   "cell_type": "code",
   "execution_count": 93,
   "metadata": {},
   "outputs": [],
   "source": [
    "import folium\n",
    "import pandas as pd\n",
    "import json\n",
    "from folium import plugins\n",
    "from folium.plugins import HeatMap"
   ]
  },
  {
   "cell_type": "code",
   "execution_count": 109,
   "metadata": {},
   "outputs": [],
   "source": [
    "laMap = folium.Map(location=[44.645857, -63.576851], tiles='Stamen Toner', zoom_start=13)"
   ]
  },
  {
   "cell_type": "code",
   "execution_count": 110,
   "metadata": {},
   "outputs": [],
   "source": [
    "# folium.CircleMarker((44.645849,-63.595128), radius=10, weight=1, color='red', fill_color='red', fill_opacity=.5).add_to(laMap)\n"
   ]
  },
  {
   "cell_type": "code",
   "execution_count": 116,
   "metadata": {
    "scrolled": true
   },
   "outputs": [
    {
     "data": {
      "text/html": [
       "<div style=\"width:100%;\"><div style=\"position:relative;width:100%;height:0;padding-bottom:60%;\"><iframe src=\"about:blank\" style=\"position:absolute;width:100%;height:100%;left:0;top:0;border:none !important;\" data-html=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 onload=\"this.contentDocument.open();this.contentDocument.write(atob(this.getAttribute('data-html')));this.contentDocument.close();\" allowfullscreen webkitallowfullscreen mozallowfullscreen></iframe></div></div>"
      ],
      "text/plain": [
       "<folium.folium.Map at 0x7f4c1b083860>"
      ]
     },
     "execution_count": 116,
     "metadata": {},
     "output_type": "execute_result"
    }
   ],
   "source": [
    "hm_wide = HeatMap([[44.645849,-63.595128,1.0],\n",
    "                   [44.635850,-63.575129,2.0],\n",
    "                   [44.6558551,-63.495130,3.0],\n",
    "                   [44.642604, -63.587413,4.0],\n",
    "                   [44.641467, -63.587546,5.0],\n",
    "                   [44.641567, -63.587646,4.0],\n",
    "                   [44.641367, -63.587346,5.0],\n",
    "                   [44.658180, -63.593669,2.0],\n",
    "                   [44.655908, -63.589010,1.0],\n",
    "                   [44.654487, -63.614898,3.0],\n",
    "                   [44.667978, -63.569711,4.0]\n",
    "                  ],\n",
    "                   min_opacity=0.9,\n",
    "                   max_val=5.0,\n",
    "                   radius=17, blur=15, \n",
    "                   max_zoom=1, \n",
    "                 )\n",
    "laMap.add_child(hm_wide)"
   ]
  },
  {
   "cell_type": "code",
   "execution_count": 117,
   "metadata": {},
   "outputs": [],
   "source": [
    "laMap.save('heatmap.html')"
   ]
  },
  {
   "cell_type": "code",
   "execution_count": 10,
   "metadata": {},
   "outputs": [
    {
     "data": {
      "text/plain": [
       "'/home/vishvesh/Documents/identify-web/backend'"
      ]
     },
     "execution_count": 10,
     "metadata": {},
     "output_type": "execute_result"
    }
   ],
   "source": [
    "pwd"
   ]
  },
  {
   "cell_type": "code",
   "execution_count": null,
   "metadata": {},
   "outputs": [],
   "source": []
  }
 ],
 "metadata": {
  "kernelspec": {
   "display_name": "Python 3",
   "language": "python",
   "name": "python3"
  },
  "language_info": {
   "codemirror_mode": {
    "name": "ipython",
    "version": 3
   },
   "file_extension": ".py",
   "mimetype": "text/x-python",
   "name": "python",
   "nbconvert_exporter": "python",
   "pygments_lexer": "ipython3",
   "version": "3.6.7"
  }
 },
 "nbformat": 4,
 "nbformat_minor": 2
}
